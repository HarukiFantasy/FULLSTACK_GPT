{
 "cells": [
  {
   "cell_type": "code",
   "execution_count": 75,
   "metadata": {},
   "outputs": [],
   "source": [
    "from langchain.memory import ConversationSummaryMemory, ConversationBufferMemory\n",
    "from langchain.chat_models import ChatOpenAI\n",
    "from langchain.schema.runnable import RunnablePassthrough\n",
    "from langchain.prompts import ChatPromptTemplate, MessagesPlaceholder\n",
    "from langchain.prompts.few_shot import FewShotChatMessagePromptTemplate\n",
    "from langchain.callbacks import StreamingStdOutCallbackHandler\n",
    "\n",
    "examples = [\n",
    "    {\n",
    "        \"question\": \"Top Gun\",\n",
    "        \"answer\": \"Emojis: 🛩️👨‍✈️🔥\\nKeywords: Fighter Jets, Brotherhood, Competition\"\n",
    "    },\n",
    "    {\n",
    "        \"question\": \"The Godfather\",\n",
    "        \"answer\": \"Emojis: 👨‍👨‍👦🔫🍝\\nKeywords: Mafia, Family, Power\"\n",
    "    },\n",
    "    {\n",
    "        \"question\": \"ET\",\n",
    "        \"answer\": \"Emojis: 👽🚲🌕\\nKeywords: Alien, Friendship, Adventure\"\n",
    "    },\n",
    "    {\n",
    "        \"question\": \"what was the movie I asked about first?\",\n",
    "        \"answer\": \"You asked about the Top Gun and I provided Emojis: 🛩️👨‍✈️🔥\\nKeywords: Fighter Jets, Brotherhood, Competition\"\n",
    "    }\n",
    "]\n",
    "\n",
    "\n",
    "example_prompt = ChatPromptTemplate.from_messages([\n",
    "    (\"human\", \"Give me 3 emojis and 3 keywords that represent the movie {question}\"),\n",
    "    (\"ai\", \"{answer}\")\n",
    "])\n",
    "\n",
    "fewshot_prompt = FewShotChatMessagePromptTemplate(\n",
    "    example_prompt = example_prompt, \n",
    "    examples = examples\n",
    ")\n",
    "\n",
    "llm = ChatOpenAI(\n",
    "    model_name=\"gpt-3.5-turbo\", \n",
    "    temperature=0.1,\n",
    "    streaming=True, \n",
    "    callbacks=[StreamingStdOutCallbackHandler()]\n",
    ")\n",
    "\n",
    "memory = ConversationBufferMemory(\n",
    "    llm=llm, max_token_limit=80,\n",
    "    memory_key=\"history\",\n",
    "    return_messages=True\n",
    ")\n",
    "\n",
    "prompt = ChatPromptTemplate.from_messages([\n",
    "    (\"system\", \n",
    "        \"You are a movie expert. You always respond with 3 emojis and 3 keywords representing the movie. \"\n",
    "        \"If the user asks about previous questions, recall from the conversation history below and answer clearly.\"\n",
    "    ),\n",
    "    MessagesPlaceholder(variable_name=\"history\"),  # 대화 기록 포함\n",
    "    fewshot_prompt,  # 랜덤 예제 포함\n",
    "    (\"human\", \"Answer the question. \"\n",
    "        \"If the question is a movie title, give 3 emojis and 3 keywords for the movie '{question}'. \"\n",
    "        \"If I ask about past questions, answer based on conversation history.\")\n",
    "])\n",
    "\n",
    "\n",
    "def load_memory(_):\n",
    "    return memory.load_memory_variables({})[\"history\"]\n",
    "\n",
    "chain = RunnablePassthrough.assign(history=load_memory) | prompt| llm\n",
    "\n",
    "def invoke_chain(question):\n",
    "    response = chain.invoke({\"question\": question})\n",
    "    memory.save_context(\n",
    "        {\"input\": question}, \n",
    "        {\"output\": response.content}\n",
    "    ) "
   ]
  },
  {
   "cell_type": "code",
   "execution_count": 76,
   "metadata": {},
   "outputs": [
    {
     "name": "stdout",
     "output_type": "stream",
     "text": [
      "Emojis: 🚀🌌⏳\n",
      "Keywords: Space Travel, Time Dilation, Love"
     ]
    }
   ],
   "source": [
    "invoke_chain(\"Interstellar\")"
   ]
  },
  {
   "cell_type": "code",
   "execution_count": 77,
   "metadata": {},
   "outputs": [
    {
     "name": "stdout",
     "output_type": "stream",
     "text": [
      "Emojis: 🏜️🚀👑\n",
      "Keywords: Sci-Fi, Desert, Power"
     ]
    }
   ],
   "source": [
    "invoke_chain(\"Dune\")"
   ]
  },
  {
   "cell_type": "code",
   "execution_count": 78,
   "metadata": {},
   "outputs": [
    {
     "name": "stdout",
     "output_type": "stream",
     "text": [
      "Interstellar 🚀🌌⏳\n",
      "Space Travel, Time Dilation, Love"
     ]
    }
   ],
   "source": [
    "invoke_chain(\"what was the movie I asked about first?\")"
   ]
  }
 ],
 "metadata": {
  "kernelspec": {
   "display_name": "env",
   "language": "python",
   "name": "python3"
  },
  "language_info": {
   "codemirror_mode": {
    "name": "ipython",
    "version": 3
   },
   "file_extension": ".py",
   "mimetype": "text/x-python",
   "name": "python",
   "nbconvert_exporter": "python",
   "pygments_lexer": "ipython3",
   "version": "3.11.11"
  }
 },
 "nbformat": 4,
 "nbformat_minor": 2
}
