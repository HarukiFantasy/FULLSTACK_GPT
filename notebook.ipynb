{
 "cells": [
  {
   "cell_type": "code",
   "execution_count": 39,
   "metadata": {},
   "outputs": [
    {
     "name": "stdout",
     "output_type": "stream",
     "text": [
      "In the land of code, where serpents slither,\n",
      "Python reigns, with syntax neither dither.\n",
      "With indentation as its crown,\n",
      "It dances gracefully, never to frown.\n",
      "\n",
      "Its libraries vast, like a magician's hat,\n",
      "Spells of data science, where wonders are at.\n",
      "But beware, dear coder, of the whitespace trap,\n",
      "For one wrong tab, and you'll hear a loud clap!\n",
      "\n",
      "So embrace the snake, with humor and glee,\n",
      "For in the world of code, Python sets you free.\n",
      "\n",
      "In this poem, Python programming language is compared to a graceful and powerful snake in the land of code. It highlights Python's clean syntax, use of indentation, and vast libraries for data science. The poem also warns about the importance of proper indentation to avoid errors. Overall, it encourages coders to embrace Python with humor and joy for its freedom in the world of coding."
     ]
    },
    {
     "data": {
      "text/plain": [
       "AIMessageChunk(content=\"\\n\\nIn this poem, Python programming language is compared to a graceful and powerful snake in the land of code. It highlights Python's clean syntax, use of indentation, and vast libraries for data science. The poem also warns about the importance of proper indentation to avoid errors. Overall, it encourages coders to embrace Python with humor and joy for its freedom in the world of coding.\")"
      ]
     },
     "execution_count": 39,
     "metadata": {},
     "output_type": "execute_result"
    }
   ],
   "source": [
    "from langchain.chat_models import ChatOpenAI\n",
    "from langchain.prompts import ChatPromptTemplate\n",
    "from langchain.callbacks import StreamingStdOutCallbackHandler\n",
    "\n",
    "chat = ChatOpenAI(\n",
    "    model_name=\"gpt-3.5-turbo\", \n",
    "    temperature=0.1, \n",
    "    streaming=True, \n",
    "    callbacks=[StreamingStdOutCallbackHandler()])\n",
    "\n",
    "poem_prompt = ChatPromptTemplate.from_messages([\n",
    "    (\"system\", \"You are a poetic AI that writes beautiful poems about programming languages.\"),\n",
    "    (\"human\", \"Write a creative and short poem about the programming language '{language}' with a humor /n/n\")\n",
    "])\n",
    "\n",
    "expl_prompt = ChatPromptTemplate.from_messages([\n",
    "    (\"system\", \"You are a helpful assistant who explains poems in simple terms.\"),\n",
    "    (\"human\", \"Explain about the {poem} in short 3-5 lines. Important, leave 2 empty lines before starting explains\")\n",
    "])\n",
    "\n",
    "poem_chain = poem_prompt | chat\n",
    "expl_chain = expl_prompt | chat\n",
    "\n",
    "final_chain = {\"poem\" : poem_chain} | expl_chain  \n",
    "final_chain.invoke({\n",
    "    \"language\": \"Python\"\n",
    "})\n"
   ]
  }
 ],
 "metadata": {
  "kernelspec": {
   "display_name": "env",
   "language": "python",
   "name": "python3"
  },
  "language_info": {
   "codemirror_mode": {
    "name": "ipython",
    "version": 3
   },
   "file_extension": ".py",
   "mimetype": "text/x-python",
   "name": "python",
   "nbconvert_exporter": "python",
   "pygments_lexer": "ipython3",
   "version": "3.11.11"
  }
 },
 "nbformat": 4,
 "nbformat_minor": 2
}
