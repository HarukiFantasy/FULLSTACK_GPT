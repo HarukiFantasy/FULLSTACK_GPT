{
 "cells": [
  {
   "cell_type": "code",
   "execution_count": null,
   "metadata": {},
   "outputs": [],
   "source": [
    "import subprocess\n",
    "\n",
    "# terminal command : ffmpeg -i files/파일명.mp4 -vn 파일명.mp3\n",
    "# # ✅ 비디오에서 오디오만 추출하기\n",
    "def extract_audio_from_video(video_path, audio_path):\n",
    "    command = [\"ffmpeg\", \"-i\", video_path, \"-vn\", audio_path]\n",
    "    subprocess.run(command)\n",
    "\n",
    "extract_audio_from_video(\"./files/vulnerability.mp4\", \"./files/vulnerability.mp3\")"
   ]
  },
  {
   "cell_type": "code",
   "execution_count": 3,
   "metadata": {},
   "outputs": [
    {
     "data": {
      "text/plain": [
       "4777.877188208617"
      ]
     },
     "execution_count": 3,
     "metadata": {},
     "output_type": "execute_result"
    }
   ],
   "source": [
    "from pydub import AudioSegment\n",
    "import math \n",
    "\n",
    "# ✅ 오디오 길이 계산하고 chunk_size(분)단위로 잘라내고 저장\n",
    "def cut_audio_in_chunks(audio_path, chunk_size, chunks_folder):\n",
    "    track = AudioSegment.from_mp3(audio_path)\n",
    "    # track.duration_seconds 오디오 길이 확인 (밀리세컨 단위)\n",
    "    chunk_len = chunk_size * 60 * 1000 # chunk_size (분단위)를 밀리세컨으로 계산\n",
    "    chunks = math.ceil(len(track)/chunk_len)  # chunk_size(분)으로 나눈 오디오 갯수\n",
    "\n",
    "    for i in range(chunks):\n",
    "        start_time = i * chunk_len\n",
    "        end_time = (i+1) * chunk_len\n",
    "        chunk = track[start_time:end_time]\n",
    "        chunk.export(f\"{chunks_folder}/chunk{i}.mp3\", format=\"mp3\")"
   ]
  },
  {
   "cell_type": "code",
   "execution_count": 18,
   "metadata": {},
   "outputs": [],
   "source": [
    "import glob\n",
    "import openai\n",
    "\n",
    "def transcript_chunks(chunk_folder, destination):\n",
    "    # ✅ 파일 경로를 리스트로 만들기\n",
    "    files = glob.glob(f\"{chunk_folder}/*.mp3\")\n",
    "    # ✅ 파일 경로를 하나씩 불러와 텍스트화 후 저장 (a : append 모드)\n",
    "    # transcript 객체 :  dic타입 {\"text\" : \"스크립트\"}\n",
    "    for file in files:\n",
    "        with open(file, \"rb\") as audio_file, open(destination, \"a\") as text_file:\n",
    "            transcript = openai.Audio.transcribe(\"whisper-1\", audio_file) \n",
    "            text_file.write(transcript[\"text\"])\n"
   ]
  }
 ],
 "metadata": {
  "kernelspec": {
   "display_name": "env",
   "language": "python",
   "name": "python3"
  },
  "language_info": {
   "codemirror_mode": {
    "name": "ipython",
    "version": 3
   },
   "file_extension": ".py",
   "mimetype": "text/x-python",
   "name": "python",
   "nbconvert_exporter": "python",
   "pygments_lexer": "ipython3",
   "version": "3.11.11"
  }
 },
 "nbformat": 4,
 "nbformat_minor": 2
}
