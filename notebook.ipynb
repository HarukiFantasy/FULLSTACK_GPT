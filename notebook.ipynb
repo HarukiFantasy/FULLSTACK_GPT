{
 "cells": [
  {
   "cell_type": "code",
   "execution_count": 43,
   "metadata": {},
   "outputs": [
    {
     "name": "stdout",
     "output_type": "stream",
     "text": [
      "\n",
      "        Here is the detailed information:\n",
      "        - Director: Christopher Nolan\n",
      "        - Main Cast: Matthew McConaughey, Anne Hathaway, Jessica Chastain\n",
      "        - Budget: $165 million\n",
      "        - Box Office: $677.5 million\n",
      "        - Genre: Science Fiction, Drama\n",
      "        - Synopsis: A team of explorers travel through a wormhole in space in an attempt to ensure humanity's survival.\n",
      "        "
     ]
    },
    {
     "data": {
      "text/plain": [
       "AIMessageChunk(content=\"\\n        Here is the detailed information:\\n        - Director: Christopher Nolan\\n        - Main Cast: Matthew McConaughey, Anne Hathaway, Jessica Chastain\\n        - Budget: $165 million\\n        - Box Office: $677.5 million\\n        - Genre: Science Fiction, Drama\\n        - Synopsis: A team of explorers travel through a wormhole in space in an attempt to ensure humanity's survival.\\n        \")"
      ]
     },
     "execution_count": 43,
     "metadata": {},
     "output_type": "execute_result"
    }
   ],
   "source": [
    "from langchain.chat_models import ChatOpenAI\n",
    "from langchain.prompts import ChatPromptTemplate\n",
    "from langchain.prompts.few_shot import FewShotChatMessagePromptTemplate\n",
    "from langchain.callbacks import StreamingStdOutCallbackHandler\n",
    "\n",
    "# 모델 설정\n",
    "chat = ChatOpenAI(\n",
    "    model_name=\"gpt-3.5-turbo\", \n",
    "    temperature=0.1, \n",
    "    streaming=True, \n",
    "    callbacks=[StreamingStdOutCallbackHandler()]\n",
    ")\n",
    "\n",
    "examples = [\n",
    "    {   \n",
    "        \"movie\": \"Inception\",\n",
    "        \"info\": \"\"\"\n",
    "        Here is the detailed information:\n",
    "        - Director: Christopher Nolan\n",
    "        - Main Cast: Leonardo DiCaprio, Joseph Gordon-Levitt, Ellen Page\n",
    "        - Budget: $160 million\n",
    "        - Box Office: $836.8 million\n",
    "        - Genre: Science Fiction, Action\n",
    "        - Synopsis: A skilled thief, who steals corporate secrets through dream-sharing technology, is given the inverse task of planting an idea into the mind of a C.E.O.\n",
    "        \"\"\"\n",
    "    },\n",
    "    {\n",
    "        \"movie\": \"The Godfather\",\n",
    "        \"info\": \"\"\"\n",
    "        Here is the detailed information:\n",
    "        - Director: Francis Ford Coppola\n",
    "        - Main Cast: Marlon Brando, Al Pacino, James Caan\n",
    "        - Budget: $6–7.2 million\n",
    "        - Box Office: $250–291 million\n",
    "        - Genre: Crime, Drama\n",
    "        - Synopsis: The aging patriarch of an organized crime dynasty transfers control of his clandestine empire to his reluctant son.\n",
    "        \"\"\"\n",
    "    }\n",
    "]\n",
    "\n",
    "\n",
    "example_prompt = ChatPromptTemplate.from_messages([\n",
    "    (\"human\", \"What do you know about the movie '{movie}'?\"),\n",
    "    (\"ai\", \"{info}\")\n",
    "])\n",
    "\n",
    "\n",
    "few_shot_prompt = FewShotChatMessagePromptTemplate(\n",
    "    example_prompt=example_prompt,\n",
    "    examples=examples\n",
    ")\n",
    "\n",
    "final_prompt = ChatPromptTemplate.from_messages([\n",
    "    (\"system\", \"You are a movie expert who provides detailed and structured information about movies. Always follow this format:\\n\" \n",
    "    \"- Director:\\n- Main Cast:\\n- Budget:\\n- Box Office:\\n- Genre:\\n- Synopsis:\\n\"),\n",
    "    few_shot_prompt,\n",
    "    (\"human\", \"What do you know about the movie '{movie}'?\")\n",
    "])\n",
    "\n",
    "chain = final_prompt | chat\n",
    "\n",
    "chain.invoke({\"movie\": \"Interstellar\"})\n"
   ]
  }
 ],
 "metadata": {
  "kernelspec": {
   "display_name": "env",
   "language": "python",
   "name": "python3"
  },
  "language_info": {
   "codemirror_mode": {
    "name": "ipython",
    "version": 3
   },
   "file_extension": ".py",
   "mimetype": "text/x-python",
   "name": "python",
   "nbconvert_exporter": "python",
   "pygments_lexer": "ipython3",
   "version": "3.11.11"
  }
 },
 "nbformat": 4,
 "nbformat_minor": 2
}
