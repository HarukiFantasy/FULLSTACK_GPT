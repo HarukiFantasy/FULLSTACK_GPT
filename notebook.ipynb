{
 "cells": [
  {
   "cell_type": "code",
   "execution_count": 38,
   "metadata": {},
   "outputs": [
    {
     "name": "stdout",
     "output_type": "stream",
     "text": [
      "In the land of code, where serpents slither,\n",
      "Python reigns, with syntax neither dither.\n",
      "Its readability, a charm so sly,\n",
      "Makes programmers smile, as errors fly.\n",
      "\n",
      "With indentation, like a dance so neat,\n",
      "Python whispers, \"Readability is sweet.\"\n",
      "No curly braces, no semicolon fuss,\n",
      "Just clean, concise code, without the fuss.\n",
      "\n",
      "So embrace the snake, with its charm so sly,\n",
      "Python's humor and power, reaching for the sky.\n",
      "\n",
      "In this poem, Python programming language is likened to a snake ruling the land of code with its clear syntax and readability. The absence of curly braces and semicolons makes coding in Python smooth and error-free. The poem celebrates Python's simplicity and power, encouraging programmers to appreciate its charm and efficiency."
     ]
    },
    {
     "data": {
      "text/plain": [
       "AIMessageChunk(content=\"\\n\\nIn this poem, Python programming language is likened to a snake ruling the land of code with its clear syntax and readability. The absence of curly braces and semicolons makes coding in Python smooth and error-free. The poem celebrates Python's simplicity and power, encouraging programmers to appreciate its charm and efficiency.\")"
      ]
     },
     "execution_count": 38,
     "metadata": {},
     "output_type": "execute_result"
    }
   ],
   "source": [
    "from langchain.chat_models import ChatOpenAI\n",
    "from langchain.prompts import ChatPromptTemplate\n",
    "from langchain.callbacks import StreamingStdOutCallbackHandler\n",
    "\n",
    "chat = ChatOpenAI(\n",
    "    model_name=\"gpt-3.5-turbo\", \n",
    "    temperature=0.1, \n",
    "    streaming=True, \n",
    "    callbacks=[StreamingStdOutCallbackHandler()])\n",
    "\n",
    "poem_prompt = ChatPromptTemplate.from_messages([\n",
    "    (\"system\", \"You are a poetic AI that writes beautiful poems about programming languages.\"),\n",
    "    (\"human\", \"Write a creative and short poem about the programming language '{language}' with a humor /n/n\")\n",
    "])\n",
    "\n",
    "expl_prompt = ChatPromptTemplate.from_messages([\n",
    "    (\"system\", \"You are a helpful assistant who explains poems in simple terms.\"),\n",
    "    (\"human\", \"Explain about the {poem} in short 3-5 lines. Important, leave 2 empty lines before starting explains\")\n",
    "])\n",
    "\n",
    "poem_chain = poem_prompt | chat\n",
    "expl_chain = expl_prompt | chat\n",
    "\n",
    "final_chain = {\"poem\" : poem_chain} | expl_chain  \n",
    "final_chain.invoke({\n",
    "    \"language\": \"Python\"\n",
    "})\n"
   ]
  }
 ],
 "metadata": {
  "kernelspec": {
   "display_name": "env",
   "language": "python",
   "name": "python3"
  },
  "language_info": {
   "codemirror_mode": {
    "name": "ipython",
    "version": 3
   },
   "file_extension": ".py",
   "mimetype": "text/x-python",
   "name": "python",
   "nbconvert_exporter": "python",
   "pygments_lexer": "ipython3",
   "version": "3.11.11"
  }
 },
 "nbformat": 4,
 "nbformat_minor": 2
}
